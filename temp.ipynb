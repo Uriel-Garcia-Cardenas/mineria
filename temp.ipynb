{
 "cells": [
  {
   "cell_type": "markdown",
   "metadata": {},
   "source": [
    "### Ejercicios Pandas"
   ]
  },
  {
   "cell_type": "markdown",
   "metadata": {},
   "source": [
    "### 1.-Regoitsro de temperaturas "
   ]
  },
  {
   "cell_type": "code",
   "execution_count": null,
   "metadata": {},
   "outputs": [],
   "source": [
    "import pandas as pd"
   ]
  },
  {
   "cell_type": "code",
   "execution_count": null,
   "metadata": {},
   "outputs": [],
   "source": [
    "dias_semana = ['lunes', 'martes', 'miercoles', 'jueves', 'viernes', 'sabado', 'domingo']\n",
    "temperaturas = [22.0, 14.2, 24.4, 25.5, 21.6, 23.3, 22.2]\n",
    "serie_temp = pd.Series(temperaturas, index=dias_semana, name='Temperatura promedio' )\n",
    "print(serie_temp)\n",
    "temperatura_promedio = serie_temp.mean()\n",
    "print( f\"\\n La temperatura promedio de la semana es: {temperatura_promedio: .2f} C\")\n",
    "\n",
    "\n"
   ]
  },
  {
   "cell_type": "markdown",
   "metadata": {},
   "source": [
    "### 2.-Inventario de productos"
   ]
  },
  {
   "cell_type": "code",
   "execution_count": null,
   "metadata": {},
   "outputs": [],
   "source": [
    "import pandas as pd"
   ]
  },
  {
   "cell_type": "code",
   "execution_count": null,
   "metadata": {},
   "outputs": [],
   "source": [
    "productos = ['uvas', 'manzana', 'naranja']\n",
    "stock = [20, 4, 7]\n",
    "inventario = pd.Series(stock, index=productos, name='Cantidad en stock')\n",
    "print('Inventario completo:')\n",
    "print(inventario)\n",
    "bajo_stock = inventario[inventario < 10]\n",
    "print(\"\\n Productos bajo en stock: \")\n",
    "print(bajo_stock)"
   ]
  },
  {
   "cell_type": "markdown",
   "metadata": {},
   "source": [
    "### 3.-Precios de productos"
   ]
  },
  {
   "cell_type": "code",
   "execution_count": null,
   "metadata": {},
   "outputs": [],
   "source": [
    "import pandas as pd\n",
    "\n",
    "productos = ['laptp HP', 'Samsung A30', 'Apple phone 16', 'TV', 'Motocicleta']\n",
    "precio = [23220.20,34000.50,21450.80,20000.90,45890.90]\n",
    "sin_descuento = pd.Series(precio, index=productos, name='Precio sin descuento')\n",
    "print('Precios sin descuento: ')\n",
    "print(sin_descuento)\n",
    "\n",
    "con_descuento = sin_descuento * 0.85\n",
    "print(\"\\nPrecios con el 15% de descuento: \")\n",
    "print(con_descuento)\n",
    "\n",
    "\n"
   ]
  },
  {
   "cell_type": "markdown",
   "metadata": {},
   "source": [
    "### 4.-Calificaciones de estudiantes"
   ]
  },
  {
   "cell_type": "code",
   "execution_count": null,
   "metadata": {},
   "outputs": [],
   "source": [
    "import pandas as pd\n",
    "\n",
    "estudiantes = ['1.-Uriel' , '2.-Manuel', '3.-Javier', '4.-Daniel', '5.-Maria', '6.-Sonia', '7.-Monica', '8.-Cesar', '9.-Juan', '10.-Oscar']\n",
    "calificaciones = [8,6,8,10,9,5,7,6,8,9]\n",
    "examen = pd.Series(calificaciones, index=estudiantes, name='Examen 1')\n",
    "\n",
    "calificacion_max = examen.max()\n",
    "calificacion_min = examen.min()\n",
    "\n",
    "print(\"Calificaciones de los estudiantes:\")\n",
    "print(examen)\n",
    "print(\"\\nCalificación más alta:\", calificacion_max)\n",
    "print(\"Calificación más baja:\", calificacion_min)\n"
   ]
  },
  {
   "cell_type": "markdown",
   "metadata": {},
   "source": [
    "### 5.-Registro de ventas"
   ]
  },
  {
   "cell_type": "code",
   "execution_count": null,
   "metadata": {},
   "outputs": [],
   "source": [
    "import pandas as pd\n",
    "\n",
    "ventas_diarias = {'Lunes': 1500, 'Martes': 2200, 'Miércoles': 1800, 'Jueves': 2000, 'Viernes': 2500}\n",
    "ventas = pd.Series(ventas_diarias, name='Ventas Diarias')\n",
    "\n",
    "total_ventas = ventas.sum()\n",
    "dia_mayor_ventas = ventas.idxmax()\n",
    "mayor_venta = ventas.max()\n",
    "\n",
    "print(\"Ventas diarias de la tienda:\")\n",
    "print(ventas)\n",
    "print(\"\\nTotal de ventas de la semana:\", total_ventas)\n",
    "print(\"Día con mayores ventas:\", dia_mayor_ventas, \"con\", mayor_venta, \"unidades vendidas\")\n",
    "\n"
   ]
  },
  {
   "cell_type": "markdown",
   "metadata": {},
   "source": [
    "### 6.-Comparación de precios"
   ]
  },
  {
   "cell_type": "code",
   "execution_count": null,
   "metadata": {},
   "outputs": [],
   "source": [
    "import pandas as pd\n",
    "\n",
    "productos = ['Manzana', 'Banana', 'Naranja', 'Uva', 'Pera']\n",
    "precios_tienda1 = [10, 8, 12, 15, 9]\n",
    "precios_tienda2 = [9, 9, 11, 14, 10]\n",
    "\n",
    "tiendas_1 = pd.Series(precios_tienda1, index=productos, name='Tienda 1')\n",
    "tiendas_2 = pd.Series(precios_tienda2, index=productos, name='Tienda 2')\n",
    "\n",
    "comparacion = tiendas_1 < tiendas_2\n",
    "print(\"\\nComparación de precios entre tiendas:\")\n",
    "print(comparacion.replace({True: 'Más barato en Tienda 1', False: 'Más barato en Tienda 2'}))\n"
   ]
  },
  {
   "cell_type": "markdown",
   "metadata": {},
   "source": [
    "### 7.-Suma de series"
   ]
  },
  {
   "cell_type": "code",
   "execution_count": null,
   "metadata": {},
   "outputs": [],
   "source": [
    "\n",
    "import pandas as pd \n",
    "\n",
    "ingresos = pd.Series({'Lunes': 5000, 'Martes': 7000, 'Miércoles': 6000, 'Jueves': 6500, 'Viernes': 7200}, name='Ingresos')\n",
    "gastos = pd.Series({'Lunes': 2000, 'Martes': 2500, 'Miércoles': 2300, 'Jueves': 2400, 'Viernes': 2800}, name='Gastos')\n",
    "\n",
    "\n",
    "beneficio = ingresos - gastos\n",
    "print(\"\\nBeneficio diario de la empresa:\")\n",
    "print(beneficio)"
   ]
  },
  {
   "cell_type": "markdown",
   "metadata": {},
   "source": [
    "### 8.-Filtrado de datos "
   ]
  },
  {
   "cell_type": "code",
   "execution_count": null,
   "metadata": {},
   "outputs": [],
   "source": [
    "import pandas as pd\n",
    "\n",
    "edades = pd.Series([12, 25, 17, 30, 19, 15, 40, 22, 18, 33, 27, 14, 29, 21, 16], name='Edades')\n",
    "edades_mayores_18 = edades[edades > 18]\n",
    "\n",
    "print(\"\\nEdades mayores a 18 años:\")\n",
    "print(edades_mayores_18)"
   ]
  },
  {
   "cell_type": "markdown",
   "metadata": {},
   "source": [
    "### 9.-Aplicacion de funciones"
   ]
  },
  {
   "cell_type": "code",
   "execution_count": null,
   "metadata": {},
   "outputs": [],
   "source": [
    "import pandas as pd\n",
    "import numpy as np\n",
    "\n",
    "numeros_aleatorios = pd.Series(np.random.randint(1, 100, size=10), name='Números Aleatorios')\n",
    "numeros_cuadrados = numeros_aleatorios.apply(lambda x: x**2)\n",
    "\n",
    "print(\"\\nValores aleatorios:\")\n",
    "print(numeros_aleatorios)\n",
    "print(\"\\nValores elevados al cuadrado:\")\n",
    "print(numeros_cuadrados)\n"
   ]
  },
  {
   "cell_type": "markdown",
   "metadata": {},
   "source": [
    "### 10.-Concatenación de series"
   ]
  },
  {
   "cell_type": "code",
   "execution_count": null,
   "metadata": {},
   "outputs": [],
   "source": [
    "import pandas as pd\n",
    "\n",
    "ventas_mes1 = pd.Series({'Enero 1': 3000, 'Enero 2': 3200, 'Enero 3': 3100, 'Enero 4': 2900, 'Enero 5': 3300}, name='Ventas Mes 1')\n",
    "ventas_mes2 = pd.Series({'Febrero 1': 2800, 'Febrero 2': 3400, 'Febrero 3': 3000, 'Febrero 4': 3100, 'Febrero 5': 3500}, name='Ventas Mes 2')\n",
    "\n",
    "ventas_totales = pd.concat([ventas_mes1, ventas_mes2])\n",
    "\n",
    "print(\"\\nRegistro completo de ventas de dos meses:\")\n",
    "print(ventas_totales)"
   ]
  }
 ],
 "metadata": {
  "kernelspec": {
   "display_name": "base",
   "language": "python",
   "name": "python3"
  },
  "language_info": {
   "codemirror_mode": {
    "name": "ipython",
    "version": 3
   },
   "file_extension": ".py",
   "mimetype": "text/x-python",
   "name": "python",
   "nbconvert_exporter": "python",
   "pygments_lexer": "ipython3",
   "version": "3.9.13"
  }
 },
 "nbformat": 4,
 "nbformat_minor": 2
}
