{
 "cells": [
  {
   "cell_type": "markdown",
   "metadata": {},
   "source": [
    "### 1.-Crea un array de 10 números aleatorios enteros entre 0 y 100."
   ]
  },
  {
   "cell_type": "code",
   "execution_count": 22,
   "metadata": {},
   "outputs": [
    {
     "name": "stdout",
     "output_type": "stream",
     "text": [
      "Numero random de 0 a 100: \n",
      "[58 93 77 80  8 73 67 23 29 97]\n"
     ]
    }
   ],
   "source": [
    "import numpy as np\n",
    "\n",
    "aletario_num = np.random.randint(1, 101, 10)\n",
    "print(\"Numero random de 0 a 100: \")\n",
    "print(aletario_num)"
   ]
  },
  {
   "cell_type": "markdown",
   "metadata": {},
   "source": [
    "### 2.-Crea un array de 5 números aleatorios decimales entre 0 y 1."
   ]
  },
  {
   "cell_type": "code",
   "execution_count": 23,
   "metadata": {},
   "outputs": [
    {
     "name": "stdout",
     "output_type": "stream",
     "text": [
      "Numero random de 0 a 1: \n",
      "[0.50687891 0.78690863 0.07783955 0.97719664 0.1086646 ]\n"
     ]
    }
   ],
   "source": [
    "aletario_dec = np.random.rand(5)\n",
    "print(\"Numero random de 0 a 1: \")\n",
    "print(aletario_dec)"
   ]
  },
  {
   "cell_type": "markdown",
   "metadata": {},
   "source": [
    "### 3.-Crea dos arrays de números aleatorios enteros de longitud 5 y concaténalos."
   ]
  },
  {
   "cell_type": "code",
   "execution_count": 27,
   "metadata": {},
   "outputs": [
    {
     "name": "stdout",
     "output_type": "stream",
     "text": [
      "2 array longitud 5 conectados\n",
      "[99 21 40 63 70  8  6  5  0  0]\n"
     ]
    }
   ],
   "source": [
    "aleatorio1 = np.random.randint(0, 101, 5)\n",
    "aleatorio2 = np.random.randint(0, 10, 5)\n",
    "conexion = np.concatenate((aleatorio1, aleatorio2))\n",
    "print(\"2 array longitud 5 conectados\")\n",
    "print(conexion)"
   ]
  },
  {
   "cell_type": "markdown",
   "metadata": {},
   "source": [
    "### 4.-Crea un array de 10 números aleatorios enteros y sepáralo en dos arrays de 5 elementos cada uno."
   ]
  },
  {
   "cell_type": "code",
   "execution_count": 29,
   "metadata": {},
   "outputs": [
    {
     "name": "stdout",
     "output_type": "stream",
     "text": [
      "10 aleatorios en 2 arrays:\n",
      "[array([17, 16, 10, 11, 18], dtype=int32), array([15, 15,  8,  6,  3], dtype=int32)]\n"
     ]
    }
   ],
   "source": [
    "a=np.array(np.random.randint(1,20,10))\n",
    "print(\"10 aleatorios en 2 arrays:\")\n",
    "print(np.split(a,2))\n"
   ]
  },
  {
   "cell_type": "markdown",
   "metadata": {},
   "source": [
    "### 5.-Crea una matriz de 3x3 con números aleatorios decimales entre 0 y 1."
   ]
  },
  {
   "cell_type": "code",
   "execution_count": 30,
   "metadata": {},
   "outputs": [
    {
     "name": "stdout",
     "output_type": "stream",
     "text": [
      "[[0.1547041  0.58401669 0.45414455]\n",
      " [0.21131176 0.51782361 0.42783165]\n",
      " [0.69787448 0.0670207  0.07188241]]\n"
     ]
    }
   ],
   "source": [
    "print(np.array(np.random.rand(3,3)))"
   ]
  },
  {
   "cell_type": "markdown",
   "metadata": {},
   "source": [
    "### 6.-Crea un array de 10 números aleatorios enteros y selecciona 3 elementos al azar."
   ]
  },
  {
   "cell_type": "code",
   "execution_count": 32,
   "metadata": {},
   "outputs": [
    {
     "name": "stdout",
     "output_type": "stream",
     "text": [
      "Elementos seleccionados al azar: [11 11 10]\n"
     ]
    }
   ],
   "source": [
    "a=np.array(np.random.randint(1,20,10))\n",
    "print(f\"Elementos seleccionados al azar: {np.random.choice(a,3)}\")"
   ]
  },
  {
   "cell_type": "markdown",
   "metadata": {},
   "source": [
    "### 7.-Crea un array de 10 números aleatorios enteros entre 0 y 100 y calcula la media."
   ]
  },
  {
   "cell_type": "code",
   "execution_count": null,
   "metadata": {},
   "outputs": [],
   "source": [
    "a=np.array(np.random.randint(0,100,10))\n",
    "print(f\"Media: {np.mean(a)}\")"
   ]
  }
 ],
 "metadata": {
  "kernelspec": {
   "display_name": "Python 3",
   "language": "python",
   "name": "python3"
  },
  "language_info": {
   "codemirror_mode": {
    "name": "ipython",
    "version": 3
   },
   "file_extension": ".py",
   "mimetype": "text/x-python",
   "name": "python",
   "nbconvert_exporter": "python",
   "pygments_lexer": "ipython3",
   "version": "3.12.4"
  }
 },
 "nbformat": 4,
 "nbformat_minor": 2
}
