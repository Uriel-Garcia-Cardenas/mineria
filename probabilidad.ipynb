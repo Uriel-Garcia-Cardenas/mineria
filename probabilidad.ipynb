{
 "cells": [
  {
   "cell_type": "markdown",
   "metadata": {},
   "source": [
    "### Datos del problema 1"
   ]
  },
  {
   "cell_type": "code",
   "execution_count": 3,
   "metadata": {},
   "outputs": [
    {
     "name": "stdout",
     "output_type": "stream",
     "text": [
      "Probabilidad de que una fruta roja sea una manzana: 0.84 (84.00%)\n"
     ]
    }
   ],
   "source": [
    "def calcular_probabilidad_fruta():\n",
    "    P_A = 0.6  \n",
    "    P_P = 0.4  \n",
    "    P_R_A = 0.7  \n",
    "    P_R_P = 0.2  \n",
    "\n",
    "    P_R = (P_R_A * P_A) + (P_R_P * P_P)\n",
    "    P_A_R = (P_R_A * P_A) / P_R\n",
    "\n",
    "    print(f\"Probabilidad de que una fruta roja sea una manzana: {P_A_R:.2f} ({P_A_R*100:.2f}%)\")\n",
    "\n",
    "calcular_probabilidad_fruta()\n",
    "\n"
   ]
  },
  {
   "cell_type": "markdown",
   "metadata": {},
   "source": [
    "### Datos del problema 2"
   ]
  },
  {
   "cell_type": "code",
   "execution_count": 6,
   "metadata": {},
   "outputs": [
    {
     "name": "stdout",
     "output_type": "stream",
     "text": [
      "Probabilidad de que el correo sea spam: 0.97 (97.04%)\n"
     ]
    }
   ],
   "source": [
    "def calcular_probabilidad_spam():\n",
    "    P_S = 0.3  \n",
    "    P_N = 0.7  \n",
    "\n",
    "    # Probabilidades de características en spam\n",
    "    P_O_S = 0.9 \n",
    "    P_A_S = 0.8  \n",
    "    P_L_S = 0.85  \n",
    "\n",
    "    # Probabilidades de características en correos normales\n",
    "    P_O_N = 0.2  \n",
    "    P_A_N = 0.4  \n",
    "    P_L_N = 0.1  \n",
    "\n",
    "    # Probabilidad de observar esas características en cada tipo de correo\n",
    "    P_C_S = P_O_S * P_A_S * P_L_S\n",
    "    P_C_N = P_O_N * P_A_N * P_L_N\n",
    "\n",
    "    # Probabilidad total de ver esas características\n",
    "    P_C = (P_C_S * P_S) + (P_C_N * P_N)\n",
    "\n",
    "    # Aplicación del Teorema de Bayes\n",
    "    P_S_C = (P_C_S * P_S) / P_C\n",
    "\n",
    "    print(f\"Probabilidad de que el correo sea spam: {P_S_C:.2f} ({P_S_C*100:.2f}%)\")\n",
    "\n",
    "calcular_probabilidad_spam()\n",
    "\n"
   ]
  }
 ],
 "metadata": {
  "kernelspec": {
   "display_name": "Python 3",
   "language": "python",
   "name": "python3"
  },
  "language_info": {
   "codemirror_mode": {
    "name": "ipython",
    "version": 3
   },
   "file_extension": ".py",
   "mimetype": "text/x-python",
   "name": "python",
   "nbconvert_exporter": "python",
   "pygments_lexer": "ipython3",
   "version": "3.12.4"
  }
 },
 "nbformat": 4,
 "nbformat_minor": 2
}
